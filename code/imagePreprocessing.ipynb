{
 "cells": [
  {
   "cell_type": "markdown",
   "metadata": {},
   "source": [
    "## Get image paths and lables"
   ]
  },
  {
   "cell_type": "code",
   "execution_count": null,
   "metadata": {},
   "outputs": [],
   "source": [
    "# import json\n",
    "# import os\n",
    "# import matplotlib.pyplot as plt\n",
    "# import numpy as np\n",
    "# import pandas as pd\n",
    "# import tensorflow as tf\n",
    "# import keras\n",
    "# import random\n",
    "\n",
    "# from sklearn.metrics import accuracy_score, precision_score, recall_score\n",
    "# from sklearn.model_selection import train_test_split\n",
    "# from tensorflow.keras import layers, losses\n",
    "# from tensorflow.keras.datasets import fashion_mnist\n",
    "# from tensorflow.keras.models import Model"
   ]
  },
  {
   "cell_type": "code",
   "execution_count": 16,
   "metadata": {},
   "outputs": [],
   "source": [
    "import matplotlib.pyplot as plt"
   ]
  },
  {
   "cell_type": "code",
   "execution_count": 1,
   "metadata": {},
   "outputs": [
    {
     "name": "stderr",
     "output_type": "stream",
     "text": [
      "2025-05-06 16:07:36.365220: I tensorflow/core/platform/cpu_feature_guard.cc:210] This TensorFlow binary is optimized to use available CPU instructions in performance-critical operations.\n",
      "To enable the following instructions: AVX2 FMA, in other operations, rebuild TensorFlow with the appropriate compiler flags.\n"
     ]
    }
   ],
   "source": [
    "import tensorflow as tf"
   ]
  },
  {
   "cell_type": "code",
   "execution_count": 2,
   "metadata": {},
   "outputs": [],
   "source": [
    "import os\n",
    "from sklearn.model_selection import train_test_split\n",
    "\n",
    "# \n",
    "# from PIL import Image\n",
    "# import numpy as np\n",
    "\n",
    "def get_image_label_pairs(root_dir):\n",
    "    image_paths = []\n",
    "    labels = []\n",
    "\n",
    "    for root, _, files in os.walk(root_dir):\n",
    "        for file in files:\n",
    "            if file.lower().endswith(('.jpg', '.jpeg')):\n",
    "                full_path = os.path.join(root, file)\n",
    "                rel_path = os.path.relpath(full_path, root_dir)\n",
    "                label = os.path.dirname(rel_path).replace(os.sep, '/')  # Use '/' for consistency\n",
    "                image_paths.append(full_path)\n",
    "                labels.append(label)\n",
    "\n",
    "    return image_paths, labels\n"
   ]
  },
  {
   "cell_type": "code",
   "execution_count": 3,
   "metadata": {},
   "outputs": [],
   "source": [
    "path = \"../full_scores/\""
   ]
  },
  {
   "cell_type": "code",
   "execution_count": 21,
   "metadata": {},
   "outputs": [],
   "source": [
    "img_path, img_labels = get_image_label_pairs(path)"
   ]
  },
  {
   "cell_type": "markdown",
   "metadata": {},
   "source": [
    "# Sampling does not work — needs rewrite"
   ]
  },
  {
   "cell_type": "markdown",
   "metadata": {},
   "source": [
    "## Sampling"
   ]
  },
  {
   "cell_type": "code",
   "execution_count": 4,
   "metadata": {},
   "outputs": [],
   "source": [
    "# import tensorflow as tf\n",
    "import hashlib\n",
    "\n",
    "def get_deterministic_seed(path, index):\n",
    "    # Create a hash-based seed from the file path and repetition index\n",
    "    path_str = path.numpy().decode('utf-8')  # for py_function\n",
    "    key = f\"{path_str}_{index}\"\n",
    "    seed = int(hashlib.sha256(key.encode('utf-8')).hexdigest(), 16) % (2**31)\n",
    "    return seed\n",
    "\n",
    "# CHANGE WHITENESS\n",
    "def load_valid_random_crop(path, index, crop_size=(448, 448), retries=10, whiteness_threshold=0.90):\n",
    "    def _load(path_str):\n",
    "        # Use py_function to apply Python-based deterministic logic\n",
    "        seed = get_deterministic_seed(path_str, index)\n",
    "        tf.random.set_seed(seed)\n",
    "\n",
    "        img = tf.io.read_file(path_str)\n",
    "        img = tf.image.decode_jpeg(img, channels=3)\n",
    "        img_shape = tf.shape(img)\n",
    "\n",
    "        crop_h, crop_w = crop_size\n",
    "        img = tf.image.resize_with_crop_or_pad(img,\n",
    "                                               tf.maximum(img_shape[0], crop_h),\n",
    "                                               tf.maximum(img_shape[1], crop_w))\n",
    "\n",
    "        for attempt in range(retries):\n",
    "            crop = tf.image.stateless_random_crop(\n",
    "                img, size=(crop_h, crop_w, 3),\n",
    "                seed=[seed, attempt]\n",
    "            )\n",
    "            crop_float = tf.cast(crop, tf.float32) / 255.0\n",
    "            mean_brightness = tf.reduce_mean(crop_float)\n",
    "            if mean_brightness < whiteness_threshold:\n",
    "                return crop_float\n",
    "        # Fallback: return last crop even if it's too white\n",
    "        return crop_float\n",
    "\n",
    "    # Wrap in tf.py_function for index-aware loading\n",
    "    return tf.py_function(_load, inp=[path], Tout=tf.float32)\n"
   ]
  },
  {
   "cell_type": "code",
   "execution_count": 5,
   "metadata": {},
   "outputs": [],
   "source": [
    "def create_deterministic_crop_dataset(image_paths, labels, repeat_count=5):\n",
    "    repeated_paths = []\n",
    "    repeated_labels = []\n",
    "    crop_indices = []\n",
    "\n",
    "    for path, label in zip(image_paths, labels):\n",
    "        for i in range(repeat_count):\n",
    "            repeated_paths.append(path)\n",
    "            repeated_labels.append(label)\n",
    "            crop_indices.append(i)  # each crop gets its index\n",
    "\n",
    "    path_ds = tf.data.Dataset.from_tensor_slices(repeated_paths)\n",
    "    label_ds = tf.data.Dataset.from_tensor_slices(repeated_labels)\n",
    "    index_ds = tf.data.Dataset.from_tensor_slices(crop_indices)\n",
    "\n",
    "    # Map image loader with deterministic seeding and blank check\n",
    "    img_ds = tf.data.Dataset.zip((path_ds, index_ds)).map(\n",
    "        lambda path, idx: load_valid_random_crop(path, idx),\n",
    "        num_parallel_calls=tf.data.AUTOTUNE\n",
    "    )\n",
    "\n",
    "    ae_ds = tf.data.Dataset.zip((img_ds, img_ds))  # for autoencoder\n",
    "    return ae_ds, label_ds\n"
   ]
  },
  {
   "cell_type": "code",
   "execution_count": 6,
   "metadata": {},
   "outputs": [],
   "source": [
    "def split_dataset(image_paths, labels, test_size=0.2, seed=42):\n",
    "    return train_test_split(\n",
    "        image_paths, labels, test_size=test_size, random_state=seed, stratify=labels\n",
    "    )"
   ]
  },
  {
   "cell_type": "code",
   "execution_count": 12,
   "metadata": {},
   "outputs": [],
   "source": [
    "def get_train_test_datasets(root_dir, repeat_count=5, test_size=0.2):\n",
    "    image_paths, labels = get_image_label_pairs(root_dir)\n",
    "    train_paths, test_paths, train_labels, test_labels = split_dataset(image_paths, labels, test_size)\n",
    "\n",
    "    train_ae_ds, train_label_ds = create_deterministic_crop_dataset(train_paths, train_labels, repeat_count)\n",
    "    test_ae_ds, test_label_ds = create_deterministic_crop_dataset(test_paths, test_labels, repeat_count)\n",
    "\n",
    "    train_ds = train_ae_ds.shuffle(1000).batch(32).prefetch(tf.data.AUTOTUNE)\n",
    "    test_ds = test_ae_ds.batch(32).prefetch(tf.data.AUTOTUNE)\n",
    "\n",
    "    return train_ds, test_ds, train_label_ds, test_label_ds\n"
   ]
  },
  {
   "cell_type": "code",
   "execution_count": 22,
   "metadata": {},
   "outputs": [],
   "source": [
    "image_paths, labels = get_image_label_pairs(path)\n",
    "train_paths, test_paths, train_labels, test_labels = split_dataset(image_paths, labels, test_size=.2)"
   ]
  },
  {
   "cell_type": "code",
   "execution_count": 28,
   "metadata": {},
   "outputs": [
    {
     "data": {
      "text/plain": [
       "85"
      ]
     },
     "execution_count": 28,
     "metadata": {},
     "output_type": "execute_result"
    }
   ],
   "source": [
    "len(test_paths)"
   ]
  },
  {
   "cell_type": "code",
   "execution_count": null,
   "metadata": {},
   "outputs": [],
   "source": []
  },
  {
   "cell_type": "code",
   "execution_count": null,
   "metadata": {},
   "outputs": [],
   "source": []
  },
  {
   "cell_type": "code",
   "execution_count": null,
   "metadata": {},
   "outputs": [],
   "source": []
  },
  {
   "cell_type": "code",
   "execution_count": null,
   "metadata": {},
   "outputs": [],
   "source": []
  },
  {
   "cell_type": "code",
   "execution_count": null,
   "metadata": {},
   "outputs": [],
   "source": []
  },
  {
   "cell_type": "code",
   "execution_count": null,
   "metadata": {},
   "outputs": [],
   "source": []
  },
  {
   "cell_type": "code",
   "execution_count": null,
   "metadata": {},
   "outputs": [],
   "source": []
  },
  {
   "cell_type": "code",
   "execution_count": null,
   "metadata": {},
   "outputs": [],
   "source": []
  }
 ],
 "metadata": {
  "kernelspec": {
   "display_name": "Python 3",
   "language": "python",
   "name": "python3"
  },
  "language_info": {
   "codemirror_mode": {
    "name": "ipython",
    "version": 3
   },
   "file_extension": ".py",
   "mimetype": "text/x-python",
   "name": "python",
   "nbconvert_exporter": "python",
   "pygments_lexer": "ipython3",
   "version": "3.12.3"
  }
 },
 "nbformat": 4,
 "nbformat_minor": 2
}
